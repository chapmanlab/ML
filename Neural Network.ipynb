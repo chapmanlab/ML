{
 "cells": [
  {
   "cell_type": "markdown",
   "metadata": {},
   "source": [
    "# A Neural Network from Scratch\n",
    "This notebook will work through a couple of examples that build a neural network from scratch. It introduces the concepts of \"perceptron\", \"activation function\", \"feedforward\", and \"backpropagation\". The material is taken mostly from:\n",
    "\n",
    "* [Basic Python Network](https://iamtrask.github.io/2015/07/12/basic-python-network/)\n",
    "\n",
    "For a similar homemade neural network applied to the Semeion Datset of handwrittend digits, see\n",
    "\n",
    "* [DIY AI: An old school matrix NN](https://towardsdatascience.com/diy-ai-an-old-school-matrix-nn-401a00021a55)\n",
    "\n",
    "**Contents**\n",
    "\n",
    "* <a href='#the_problem'>The Problem</a>\n",
    "* <a href='#activation_function'>Activation Function</a>\n",
    "* <a href='#neural_network'>The Neural Network</a>\n",
    "* <a href='#breakdown'>Breaking it Down</a>\n",
    "    * <a href='#feed_forward'>Feed Forward</a>\n",
    "    * <a href='#error_convergence'>Error Convergence</a>\n",
    "    * <a href='#err_wt_deriv'>Error Weighted Derivative</a>\n",
    "    * <a href='#back_propagation'>Training: Back Propagation</a>"
   ]
  },
  {
   "cell_type": "code",
   "execution_count": 1,
   "metadata": {},
   "outputs": [],
   "source": [
    "import numpy as np\n",
    "from matplotlib import pyplot as plt"
   ]
  },
  {
   "cell_type": "markdown",
   "metadata": {},
   "source": [
    "<a id='the_problem'></a>\n",
    "## The problem\n",
    "We will use the simple table below to train the model. There are three features (columns), each with four samples (rows) that will be used to predict the state of the output at each sample.\n",
    "\n",
    "\n",
    " A | B | C | Output\n",
    "---|---|---|---\n",
    " 0 | 0 | 1 | 0\n",
    " 1 | 1 | 1 | 1\n",
    " 1 | 0 | 1 | 1\n",
    " 0 | 1 | 1 | 0"
   ]
  },
  {
   "cell_type": "markdown",
   "metadata": {},
   "source": [
    "<a id='activation_function'></a>\n",
    "## Activation Function\n",
    "The sigmoid, or logistic function is the decision making function. Its derivative is used to nudge predictions toward a yes (`1`) or no (`0`) result."
   ]
  },
  {
   "cell_type": "code",
   "execution_count": 2,
   "metadata": {},
   "outputs": [],
   "source": [
    "# sigmoid function\n",
    "def nonlin(x,deriv=False):\n",
    "    '''\n",
    "    Nonlinear activation function.\n",
    "    \n",
    "    Params\n",
    "    ------\n",
    "    x : float\n",
    "        Locations at which to calculate the activation function\n",
    "    deriv : bool\n",
    "        If True, caluclate the derivative of x, where x = nonlin(xx)\n",
    "    \n",
    "    Returns\n",
    "    -------\n",
    "    result : float\n",
    "        Function value at points `x`\n",
    "    '''\n",
    "    if(deriv==True):\n",
    "        return x*(1-x)\n",
    "    return 1/(1+np.exp(-x))"
   ]
  },
  {
   "cell_type": "code",
   "execution_count": 3,
   "metadata": {},
   "outputs": [],
   "source": [
    "def nonlin_deriv(x):\n",
    "    '''\n",
    "    Derivative of the nonlinear activation function.\n",
    "    \n",
    "    Params\n",
    "    ------\n",
    "    x : float\n",
    "        Locations at which to calculate the derivative of the activation function\n",
    "    \n",
    "    Returns\n",
    "    -------\n",
    "    result : float\n",
    "        Function value at points `x`\n",
    "    '''\n",
    "    return nonlin(x)*(1-nonlin(x))"
   ]
  },
  {
   "cell_type": "markdown",
   "metadata": {},
   "source": [
    "Plot the activation function and its derivative:"
   ]
  },
  {
   "cell_type": "code",
   "execution_count": 4,
   "metadata": {},
   "outputs": [
    {
     "data": {
      "image/png": "[encoded data removed]",
      "text/plain": [
       "<Figure size 432x288 with 2 Axes>"
      ]
     },
     "metadata": {
      "needs_background": "light"
     },
     "output_type": "display_data"
    }
   ],
   "source": [
    "# Function values\n",
    "x_sigmoid = np.arange(-6, 6, 0.1)\n",
    "y_sigmoid = nonlin(x_sigmoid)\n",
    "y_deriv = nonlin_deriv(x_sigmoid)\n",
    "\n",
    "# Create the figure\n",
    "fig, axes = plt.subplots(nrows=1, ncols=2)\n",
    "\n",
    "# Plot the sigmoid function\n",
    "axes[0].plot(x_sigmoid, y_sigmoid)\n",
    "axes[0].set_title('Sigmoid Function')\n",
    "axes[0].set_xlabel('x')\n",
    "axes[0].set_ylabel('$\\sigma(x) = 1/(1+e^{-x})$')\n",
    "axes[0].set_ylim((0,1))\n",
    "\n",
    "# Plot its derivative\n",
    "axes[1].plot(x_sigmoid, y_deriv)\n",
    "axes[1].set_title('$d\\sigma/dx$')\n",
    "axes[1].set_xlabel('x')\n",
    "axes[1].set_ylabel('$\\sigma(x) (1-\\sigma(x))$')\n",
    "\n",
    "# Adjust spacing between plots\n",
    "plt.subplots_adjust(wspace=0.4)"
   ]
  },
  {
   "cell_type": "markdown",
   "metadata": {},
   "source": [
    "<a id='neural_network'></a>\n",
    "## The Neural Network\n",
    "Create and run the neural network. It consists of an input layer, `l0`, one hidden layer, `l1`, and the output layer, `y`. The synapse, `s0` are a set of weights that connect the input layer to the hidden layer."
   ]
  },
  {
   "cell_type": "code",
   "execution_count": 5,
   "metadata": {},
   "outputs": [],
   "source": [
    "def neural_net(x, y, niter=10000):\n",
    "    '''\n",
    "    A simple perceptron neural network.\n",
    "    \n",
    "    Prameters\n",
    "    ---------\n",
    "    x : `np.ndarray`\n",
    "        Input data, each feature represented as a column.\n",
    "    y : `np.ndarray`\n",
    "        Output to predict\n",
    "    niter : int\n",
    "        Number of iterations to perform\n",
    "    \n",
    "    Returns\n",
    "    -------\n",
    "    prediction : `np.ndarray`\n",
    "        Predicted output\n",
    "    '''\n",
    "    # First layer of synapses connecting the input\n",
    "    # layer to the output layer. Initialize weights\n",
    "    # randomly with mean 0\n",
    "    syn0 = 2*np.random.random((3,1)) - 1\n",
    "\n",
    "    # Iterate\n",
    "    for iter in range(niter):\n",
    "        idx = iter // 10\n",
    "\n",
    "        # Forward propagation\n",
    "        l0 = x\n",
    "        l1 = nonlin(np.dot(l0, syn0))\n",
    "\n",
    "        # How much did we miss?\n",
    "        l1_error = y - l1\n",
    "\n",
    "        # Multiply how much we missed by the \n",
    "        # slope of the sigmoid at the values in l1\n",
    "        l1_delta = l1_error * nonlin(l1, True)\n",
    "\n",
    "        # Back propagation to update weights\n",
    "        syn0 += np.dot(l0.T, l1_delta)\n",
    "\n",
    "    return l1"
   ]
  },
  {
   "cell_type": "markdown",
   "metadata": {},
   "source": [
    "Train the neural net on the data."
   ]
  },
  {
   "cell_type": "code",
   "execution_count": 6,
   "metadata": {
    "scrolled": true
   },
   "outputs": [
    {
     "name": "stdout",
     "output_type": "stream",
     "text": [
      "Output   Prediction\n",
      "     0       0.0097\n",
      "     1       0.9921\n",
      "     1       0.9936\n",
      "     0       0.0079\n"
     ]
    }
   ],
   "source": [
    "# Input dataset\n",
    "x = np.array([[0,0,1],\n",
    "              [1,1,1],\n",
    "              [1,0,1],\n",
    "              [0,1,1]])\n",
    "    \n",
    "# Output dataset            \n",
    "y = np.array([[0,1,1,0]]).T\n",
    "\n",
    "# Seed random numbers to make calculation\n",
    "# deterministic (just a good practice)\n",
    "np.random.seed(1)\n",
    "\n",
    "# Run the neural network\n",
    "niter = 10000\n",
    "prediction = neural_net(x, y, niter)\n",
    "\n",
    "# Show the results\n",
    "print('{0:>6s} {1:>12s}'.format('Output', 'Prediction'))\n",
    "for output, predict in zip(y, prediction):\n",
    "    print('{0:6d} {1:12.4f}'.format(output[0], predict[0]))"
   ]
  },
  {
   "cell_type": "markdown",
   "metadata": {},
   "source": [
    "<a id='breakdown'></a>\n",
    "## Breaking it Down\n",
    "Here, we implement the `neural_net` function as a script and keep track various quantities of interest to see how they evolve with each iteration. The diagnostic quantities are:"
   ]
  },
  {
   "cell_type": "code",
   "execution_count": 7,
   "metadata": {},
   "outputs": [],
   "source": [
    "# Diagnosics for demonstration\n",
    "nstep = 10  # save results every nsteps\n",
    "npts = niter // nstep  # number of points to save\n",
    "\n",
    "# Parameters of the neural network\n",
    "weighted_sum = np.zeros((4, npts))\n",
    "l1 = np.zeros((4, npts))\n",
    "l1_error = np.zeros((4, npts))\n",
    "l1_deriv = np.zeros((4, npts))\n",
    "l1_delta = np.zeros((4, npts))\n",
    "syn0 = np.zeros((3, npts))"
   ]
  },
  {
   "cell_type": "markdown",
   "metadata": {},
   "source": [
    "And the `neural_net` script is:"
   ]
  },
  {
   "cell_type": "code",
   "execution_count": 8,
   "metadata": {},
   "outputs": [
    {
     "name": "stdout",
     "output_type": "stream",
     "text": [
      "Output After Training:\n",
      "[[0.00966948]\n",
      " [0.99211657]\n",
      " [0.99359104]\n",
      " [0.0078636 ]]\n"
     ]
    }
   ],
   "source": [
    "# First layer of synapses connecting the input\n",
    "# layer to the output layer. Initialize weights\n",
    "# randomly with mean 0\n",
    "syn0[:,0,None] = 2*np.random.random((3,1)) - 1\n",
    "\n",
    "# Iterate\n",
    "for iter in range(niter):\n",
    "    idx = iter // nstep\n",
    "\n",
    "    # forward propagation\n",
    "    l0 = x\n",
    "    weighted_sum[:,idx,None] = np.dot(l0, syn0[:,idx,None])\n",
    "    l1[:,idx,None] = nonlin(weighted_sum[:,idx,None])\n",
    "\n",
    "    # how much did we miss?\n",
    "    l1_error[:,idx,None] = y - l1[:,idx,None]\n",
    "\n",
    "    # multiply how much we missed by the \n",
    "    # slope of the sigmoid at the values in l1\n",
    "    l1_deriv[:,idx,None] = nonlin(l1[:,idx,None], True)\n",
    "    l1_delta[:,idx,None] = l1_error[:,idx,None] * l1_deriv[:,idx,None]\n",
    "\n",
    "    # Back propagation to update weights\n",
    "    try:\n",
    "        syn0[:,(iter+1)//nstep,None] = syn0[:,idx,None] + np.dot(l0.T, l1_delta[:,idx,None])\n",
    "    except IndexError:\n",
    "        pass\n",
    "\n",
    "print(\"Output After Training:\")\n",
    "print(l1[:,-1,None])"
   ]
  },
  {
   "cell_type": "markdown",
   "metadata": {},
   "source": [
    "<a id='feed_forward'></a>\n",
    "### Feed Forward\n",
    "The training data is propagated forward through the hidden layer to the output. `np.dot(l0, syn0)`\n",
    "\n",
    "* `syn0`: There are three weights, or synapes -- one for each feature\n",
    "* `np.dot(l0, syn0)`: The weights are applied to each of the four training samples\n",
    "* `nonlin(...)`: The weighted sum (dot product) of each input sample predicts the output sample (`0` or `1`)\n",
    "\n",
    "In this sense, the weights tell you how important each feature is in predicting the output."
   ]
  },
  {
   "cell_type": "code",
   "execution_count": 9,
   "metadata": {
    "scrolled": true
   },
   "outputs": [
    {
     "name": "stdout",
     "output_type": "stream",
     "text": [
      "np.dot(l0, syn0) = (4, 3) dot (3, 1) = (4, 1)\n"
     ]
    }
   ],
   "source": [
    "print('np.dot(l0, syn0) = {} dot {} = {}'.format(l0.shape,\n",
    "                                                 (syn0.shape[0], syn0.shape[1] // npts),\n",
    "                                                 (l0.shape[0], syn0.shape[1] // npts)\n",
    "                                                )\n",
    "     )"
   ]
  },
  {
   "cell_type": "markdown",
   "metadata": {},
   "source": [
    "<a id='error_convergence'></a>\n",
    "### Error Convergence\n",
    "We now examine how quickly we converge on the predicted output, or how fast `y - l1` converges to 0. "
   ]
  },
  {
   "cell_type": "code",
   "execution_count": 10,
   "metadata": {},
   "outputs": [
    {
     "data": {
      "image/png": "[encoded data removed]",
      "text/plain": [
       "<Figure size 432x288 with 1 Axes>"
      ]
     },
     "metadata": {
      "needs_background": "light"
     },
     "output_type": "display_data"
    }
   ],
   "source": [
    "# Plot the error in each sample at each iteration\n",
    "lines = plt.plot(nstep * np.arange(npts), l1_error.T)\n",
    "lines[0].axes.set_xlabel('Iteration')\n",
    "lines[0].axes.set_ylabel('Error')\n",
    "leg = plt.legend(lines, ['Sample 1', 'Sample 2', 'Sample 3', 'Sample 4'])"
   ]
  },
  {
   "cell_type": "markdown",
   "metadata": {},
   "source": [
    "<a id='err_wt_deriv'></a>\n",
    "### Error Weighted Derivative\n",
    "Once the error `l1_error` is determined, it is used to correct the synapse weights `syn0` via the **error weighted derivative**, `l1_error * nonlin(l1, True)`. The plot below shows the sigmoid function $\\sigma(x)$ and its derivative at $x$=(-1, 0, 2). Larger values of $|\\sigma|$ have a shallower slope while smaller values of $|\\sigma|$ have a steeper slope.\n",
    "\n",
    "When the model is confident in its prediction, i.e. when `|np.dot(l1, syn0)|` is large and $\\sigma=$`l1` is close to `0` or `1`, the derivative $d\\sigma/dx$ is small and therefore is the correcton to the `syn0` is also small."
   ]
  },
  {
   "cell_type": "code",
   "execution_count": 11,
   "metadata": {},
   "outputs": [
    {
     "name": "stdout",
     "output_type": "stream",
     "text": [
      "l1_delta = l1_error * nonlin(l1, True))\n",
      "  (4, 1) =   (4, 1) * (4, 1)\n"
     ]
    }
   ],
   "source": [
    "print('l1_delta = l1_error * nonlin(l1, True))\\n' \\\n",
    "      '  {} =   {} * {}'.format((l1_delta.shape[0], l1_delta.shape[1] // npts),\n",
    "                                (l1_error.shape[0], l1_error.shape[1] // npts),\n",
    "                                (l1.shape[0], l1.shape[1] // npts)\n",
    "                               )\n",
    "     )"
   ]
  },
  {
   "cell_type": "code",
   "execution_count": 12,
   "metadata": {},
   "outputs": [
    {
     "data": {
      "image/png": "[encoded data removed]",
      "text/plain": [
       "<Figure size 360x216 with 1 Axes>"
      ]
     },
     "metadata": {
      "needs_background": "light"
     },
     "output_type": "display_data"
    }
   ],
   "source": [
    "# Plot the sigmoid function again\n",
    "fig = plt.figure(figsize=(5, 3))\n",
    "ax = fig.add_subplot(111)\n",
    "ax.plot(x_sigmoid, y_sigmoid)\n",
    "ax.set_title('Sigmoid Function')\n",
    "ax.set_xlabel('x')\n",
    "ax.set_ylabel('$\\sigma(x)$')\n",
    "\n",
    "# Choose three points\n",
    "x_pts = np.array([-1, 0, 2])\n",
    "y_pts = nonlin(x_pts)\n",
    "ax.plot(x_pts, y_pts, 'ro')\n",
    "\n",
    "# Plot the derivative at those points\n",
    "x_delta = 0.4\n",
    "x_step = 0.01\n",
    "y_deriv = nonlin_deriv(x_pts)\n",
    "y_intercept = y_pts - y_deriv*x_pts\n",
    "for i in range(len(x_pts)):\n",
    "    x_pts_deriv = np.arange(x_pts[i]-x_delta, x_pts[i]+x_delta, x_step)\n",
    "    y_pts_deriv = y_deriv[i]*x_pts_deriv + y_intercept[i]\n",
    "    ax.plot(x_pts_deriv, y_pts_deriv, linewidth=3)"
   ]
  },
  {
   "cell_type": "markdown",
   "metadata": {},
   "source": [
    "<a id='back_propagation'></a>\n",
    "### Training: Back Propagation\n",
    "The model is trained by back-propagating the errors in the output to the synapses in previous layers. In the figures below, we see the weighted sum of inputs `l0 dot syn0` is initially near `0`, and the model indicates that its predictions are uncertain, with `l1`~0.5 and large `l1_error`. Because the slope of $\\sigma$ is large at $\\sigma(0.5)$, the `l1_error` values are weighted heavily and the correction term `l1_delta` is also large. This information is **back-propagated** to `syn0`, providing training to the model.\n",
    "\n",
    "As a result, the `syn0` weights grow, the weighted sums increase, and `l1` converges toward the answer."
   ]
  },
  {
   "cell_type": "code",
   "execution_count": 13,
   "metadata": {},
   "outputs": [
    {
     "name": "stdout",
     "output_type": "stream",
     "text": [
      "  syn0 +=   l0.T dot l1_delta\n",
      "(3, 1) += (3, 4) dot (4, 1)\n"
     ]
    }
   ],
   "source": [
    "print('  syn0 +=   l0.T dot l1_delta\\n' \\\n",
    "      '{} += {} dot {}'.format((syn0.shape[0], syn0.shape[1] // npts),\n",
    "                                l0.T.shape,\n",
    "                                (l1_delta.shape[0], l1_delta.shape[1] // npts)\n",
    "                               )\n",
    "     )"
   ]
  },
  {
   "cell_type": "code",
   "execution_count": 14,
   "metadata": {},
   "outputs": [
    {
     "data": {
      "text/plain": [
       "Text(0, 0.5, 'Syn0')"
      ]
     },
     "execution_count": 14,
     "metadata": {},
     "output_type": "execute_result"
    },
    {
     "data": {
      "image/png": "[encoded data removed]",
      "text/plain": [
       "<Figure size 360x648 with 5 Axes>"
      ]
     },
     "metadata": {
      "needs_background": "light"
     },
     "output_type": "display_data"
    }
   ],
   "source": [
    "fig, axes = plt.subplots(nrows=5, ncols=1, figsize=(5, 9))\n",
    "\n",
    "axes[0].plot(nstep * np.arange(npts), weighted_sum.T)\n",
    "axes[0].set_title('Evolution of Prediction')\n",
    "axes[0].set_xticks([])\n",
    "axes[0].set_ylabel('Weighted Sum\\nl0 dot syn0')\n",
    "\n",
    "axes[1].plot(nstep * np.arange(npts), l1.T)\n",
    "axes[1].set_xticks([])\n",
    "axes[1].set_ylabel('l1\\n$\\sigma(Weighted Sum)$')\n",
    "\n",
    "axes[2].plot(nstep * np.arange(npts), l1_deriv.T)\n",
    "axes[2].set_xticks([])\n",
    "axes[2].set_ylabel('$d(l1)/dx$')\n",
    "\n",
    "axes[3].plot(nstep * np.arange(npts), l1_delta.T)\n",
    "axes[3].set_xticks([])\n",
    "axes[3].set_ylabel('Correction\\nl1_error * $d(l1)/dx$')\n",
    "\n",
    "axes[4].plot(nstep * np.arange(npts), syn0.T)\n",
    "axes[4].set_xlabel('Iteration')\n",
    "axes[4].set_ylabel('Syn0')"
   ]
  }
 ],
 "metadata": {
  "kernelspec": {
   "display_name": "Python 3",
   "language": "python",
   "name": "python3"
  },
  "language_info": {
   "codemirror_mode": {
    "name": "ipython",
    "version": 3
   },
   "file_extension": ".py",
   "mimetype": "text/x-python",
   "name": "python",
   "nbconvert_exporter": "python",
   "pygments_lexer": "ipython3",
   "version": "3.6.9"
  }
 },
 "nbformat": 4,
 "nbformat_minor": 2
}
